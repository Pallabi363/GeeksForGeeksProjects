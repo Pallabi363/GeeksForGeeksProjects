{
 "cells": [
  {
   "cell_type": "code",
   "execution_count": 1,
   "id": "33322d5e-72c9-4088-85a0-a021f4ddcaf5",
   "metadata": {},
   "outputs": [],
   "source": [
    "import pandas as pd\n",
    "import numpy as np"
   ]
  },
  {
   "cell_type": "markdown",
   "id": "4d7c3fed-3c22-4344-93dc-bbf181af2acb",
   "metadata": {},
   "source": [
    "To determine the number of cities (including subregions) where Swiggy has its restaurants listed, I'll start by loading the data from the provided CSV file. After that, I'll inspect the columns to identify the relevant column(s) that contain city/subregion information. Once identified, I'll count the unique entries in that column to determine the total number of cities and subregions."
   ]
  },
  {
   "cell_type": "markdown",
   "id": "bc6c4103-70fc-4f99-b6f0-188f8485c7ad",
   "metadata": {},
   "source": [
    "First I cleaned data and saved cleaned data to a csv file. I shared this file also. Please check my submissions. "
   ]
  },
  {
   "cell_type": "markdown",
   "id": "6357aec3-5fd4-4ddf-9ae5-28faa5ff7ac4",
   "metadata": {},
   "source": [
    "##### Loading the data:"
   ]
  },
  {
   "cell_type": "code",
   "execution_count": 2,
   "id": "86d5cd87-8b19-471b-965c-696ff527a10c",
   "metadata": {},
   "outputs": [
    {
     "name": "stderr",
     "output_type": "stream",
     "text": [
      "/var/folders/zs/1mq193396j7gv4t7h373j7740000gn/T/ipykernel_9296/1223169324.py:1: DtypeWarning: Columns (0) have mixed types. Specify dtype option on import or set low_memory=False.\n",
      "  data = pd.read_csv(\"SwiggyCleanedData.csv\")\n"
     ]
    }
   ],
   "source": [
    "data = pd.read_csv(\"SwiggyCleanedData.csv\")"
   ]
  },
  {
   "cell_type": "code",
   "execution_count": 3,
   "id": "e9725c32-745f-417a-be93-967d6bafe5f0",
   "metadata": {
    "scrolled": true
   },
   "outputs": [
    {
     "data": {
      "text/html": [
       "<div>\n",
       "<style scoped>\n",
       "    .dataframe tbody tr th:only-of-type {\n",
       "        vertical-align: middle;\n",
       "    }\n",
       "\n",
       "    .dataframe tbody tr th {\n",
       "        vertical-align: top;\n",
       "    }\n",
       "\n",
       "    .dataframe thead th {\n",
       "        text-align: right;\n",
       "    }\n",
       "</style>\n",
       "<table border=\"1\" class=\"dataframe\">\n",
       "  <thead>\n",
       "    <tr style=\"text-align: right;\">\n",
       "      <th></th>\n",
       "      <th>city</th>\n",
       "      <th>sub_region</th>\n",
       "      <th>resturant_name</th>\n",
       "      <th>rating</th>\n",
       "      <th>rating_count</th>\n",
       "      <th>cost</th>\n",
       "      <th>cuisine</th>\n",
       "    </tr>\n",
       "  </thead>\n",
       "  <tbody>\n",
       "    <tr>\n",
       "      <th>0</th>\n",
       "      <td>Ahmedabad</td>\n",
       "      <td>Vastrapur</td>\n",
       "      <td>M.A.D By Tomato'S</td>\n",
       "      <td>4.3</td>\n",
       "      <td>100+ ratings</td>\n",
       "      <td>₹ 1200</td>\n",
       "      <td>Indian,Chinese</td>\n",
       "    </tr>\n",
       "    <tr>\n",
       "      <th>1</th>\n",
       "      <td>Ahmedabad</td>\n",
       "      <td>Vastrapur</td>\n",
       "      <td>Tea Post</td>\n",
       "      <td>4.0</td>\n",
       "      <td>100+ ratings</td>\n",
       "      <td>₹ 150</td>\n",
       "      <td>Fast Food</td>\n",
       "    </tr>\n",
       "    <tr>\n",
       "      <th>2</th>\n",
       "      <td>Ahmedabad</td>\n",
       "      <td>Vastrapur</td>\n",
       "      <td>Shanghai Chicken Lolipops</td>\n",
       "      <td>--</td>\n",
       "      <td>Too Few Ratings</td>\n",
       "      <td>₹ 300</td>\n",
       "      <td>Chinese,Fast Food</td>\n",
       "    </tr>\n",
       "    <tr>\n",
       "      <th>3</th>\n",
       "      <td>Ahmedabad</td>\n",
       "      <td>Vastrapur</td>\n",
       "      <td>Ministry Of Momos</td>\n",
       "      <td>--</td>\n",
       "      <td>Too Few Ratings</td>\n",
       "      <td>₹ 300</td>\n",
       "      <td>Chinese</td>\n",
       "    </tr>\n",
       "    <tr>\n",
       "      <th>4</th>\n",
       "      <td>Ahmedabad</td>\n",
       "      <td>Vastrapur</td>\n",
       "      <td>Sizzling - The Cake Room</td>\n",
       "      <td>--</td>\n",
       "      <td>Too Few Ratings</td>\n",
       "      <td>₹ 350</td>\n",
       "      <td>Desserts</td>\n",
       "    </tr>\n",
       "    <tr>\n",
       "      <th>...</th>\n",
       "      <td>...</td>\n",
       "      <td>...</td>\n",
       "      <td>...</td>\n",
       "      <td>...</td>\n",
       "      <td>...</td>\n",
       "      <td>...</td>\n",
       "      <td>...</td>\n",
       "    </tr>\n",
       "    <tr>\n",
       "      <th>181399</th>\n",
       "      <td>NaN</td>\n",
       "      <td>Yavatmal</td>\n",
       "      <td>The Food Delight</td>\n",
       "      <td>--</td>\n",
       "      <td>--</td>\n",
       "      <td>₹ 200</td>\n",
       "      <td>Fast Food,Snacks</td>\n",
       "    </tr>\n",
       "    <tr>\n",
       "      <th>181400</th>\n",
       "      <td>NaN</td>\n",
       "      <td>Yavatmal</td>\n",
       "      <td>MAITRI FOODS &amp; BEVERAGES</td>\n",
       "      <td>--</td>\n",
       "      <td>--</td>\n",
       "      <td>₹ 300</td>\n",
       "      <td>Pizzas</td>\n",
       "    </tr>\n",
       "    <tr>\n",
       "      <th>181401</th>\n",
       "      <td>NaN</td>\n",
       "      <td>Yavatmal</td>\n",
       "      <td>Cafe Bella Ciao</td>\n",
       "      <td>--</td>\n",
       "      <td>--</td>\n",
       "      <td>₹ 300</td>\n",
       "      <td>Fast Food,Snacks</td>\n",
       "    </tr>\n",
       "    <tr>\n",
       "      <th>181402</th>\n",
       "      <td>NaN</td>\n",
       "      <td>Yavatmal</td>\n",
       "      <td>GRILL ZILLA</td>\n",
       "      <td>--</td>\n",
       "      <td>--</td>\n",
       "      <td>₹ 250</td>\n",
       "      <td>Continental</td>\n",
       "    </tr>\n",
       "    <tr>\n",
       "      <th>181403</th>\n",
       "      <td>NaN</td>\n",
       "      <td>Yavatmal</td>\n",
       "      <td>Lazeez kitchen</td>\n",
       "      <td>--</td>\n",
       "      <td>--</td>\n",
       "      <td>₹ 200</td>\n",
       "      <td>Pizzas</td>\n",
       "    </tr>\n",
       "  </tbody>\n",
       "</table>\n",
       "<p>181404 rows × 7 columns</p>\n",
       "</div>"
      ],
      "text/plain": [
       "             city sub_region             resturant_name rating  \\\n",
       "0       Ahmedabad  Vastrapur          M.A.D By Tomato'S    4.3   \n",
       "1       Ahmedabad  Vastrapur                   Tea Post    4.0   \n",
       "2       Ahmedabad  Vastrapur  Shanghai Chicken Lolipops     --   \n",
       "3       Ahmedabad  Vastrapur          Ministry Of Momos     --   \n",
       "4       Ahmedabad  Vastrapur   Sizzling - The Cake Room     --   \n",
       "...           ...        ...                        ...    ...   \n",
       "181399        NaN   Yavatmal           The Food Delight     --   \n",
       "181400        NaN   Yavatmal   MAITRI FOODS & BEVERAGES     --   \n",
       "181401        NaN   Yavatmal            Cafe Bella Ciao     --   \n",
       "181402        NaN   Yavatmal                GRILL ZILLA     --   \n",
       "181403        NaN   Yavatmal             Lazeez kitchen     --   \n",
       "\n",
       "           rating_count    cost            cuisine  \n",
       "0          100+ ratings  ₹ 1200     Indian,Chinese  \n",
       "1          100+ ratings   ₹ 150          Fast Food  \n",
       "2       Too Few Ratings   ₹ 300  Chinese,Fast Food  \n",
       "3       Too Few Ratings   ₹ 300            Chinese  \n",
       "4       Too Few Ratings   ₹ 350           Desserts  \n",
       "...                 ...     ...                ...  \n",
       "181399               --   ₹ 200   Fast Food,Snacks  \n",
       "181400               --   ₹ 300             Pizzas  \n",
       "181401               --   ₹ 300   Fast Food,Snacks  \n",
       "181402               --   ₹ 250        Continental  \n",
       "181403               --   ₹ 200             Pizzas  \n",
       "\n",
       "[181404 rows x 7 columns]"
      ]
     },
     "execution_count": 3,
     "metadata": {},
     "output_type": "execute_result"
    }
   ],
   "source": [
    "data"
   ]
  },
  {
   "cell_type": "markdown",
   "id": "b9f45634-7f74-4702-9bc7-621fa1c3f05e",
   "metadata": {},
   "source": [
    "The dataset contains a \"city\" column and a \"sub_region\" column that represent the cities and their subregions, respectively. To determine the number of unique cities and subregions where Swiggy has its restaurants listed, we can count the unique combinations of \"city\" and \"sub_region\"."
   ]
  },
  {
   "cell_type": "markdown",
   "id": "c3db7f7e-7859-43c0-b7b6-d7a22abe6128",
   "metadata": {},
   "source": [
    "### 1. How many cities (including subregions) where Swiggy is having its restaurants listed?"
   ]
  },
  {
   "cell_type": "code",
   "execution_count": 4,
   "id": "a0a1f8a4-dfcf-4e40-8166-b7f92773be3e",
   "metadata": {},
   "outputs": [
    {
     "data": {
      "text/plain": [
       "865"
      ]
     },
     "execution_count": 4,
     "metadata": {},
     "output_type": "execute_result"
    }
   ],
   "source": [
    "\n",
    "# Count the unique combinations of city and sub_region\n",
    "unique_city_subregions = data.drop_duplicates(subset=['city', 'sub_region'])\n",
    "\n",
    "# Determine the number of unique combinations\n",
    "num_unique_city_subregions = unique_city_subregions.shape[0]\n",
    "\n",
    "num_unique_city_subregions\n",
    "\n"
   ]
  },
  {
   "cell_type": "markdown",
   "id": "0170050e-bcce-4ef6-a763-97d02b7648f0",
   "metadata": {},
   "source": [
    "#### Swiggy has its restaurants listed in 865 unique cities and subregions combined."
   ]
  },
  {
   "cell_type": "markdown",
   "id": "de64af1d-2c8f-4476-83ff-49efc80f035e",
   "metadata": {},
   "source": [
    "### 2. How many cities  (don't include subregions) where Swiggy is having their restaurants listed?"
   ]
  },
  {
   "cell_type": "code",
   "execution_count": 5,
   "id": "20aa93da-4013-4b0b-a540-06144740bc5f",
   "metadata": {},
   "outputs": [
    {
     "data": {
      "text/plain": [
       "27"
      ]
     },
     "execution_count": 5,
     "metadata": {},
     "output_type": "execute_result"
    }
   ],
   "source": [
    "# Count the unique cities\n",
    "unique_cities = data['city'].unique()\n",
    "\n",
    "# Determine the number of unique cities\n",
    "num_unique_cities = len(unique_cities)\n",
    "\n",
    "num_unique_cities\n",
    "\n"
   ]
  },
  {
   "cell_type": "markdown",
   "id": "217df033-7c57-48aa-a371-41c345a7c6c6",
   "metadata": {},
   "source": [
    "#### Swiggy has its restaurants listed in 27 unique cities."
   ]
  },
  {
   "cell_type": "markdown",
   "id": "eef6568d-c1a4-49c9-9ed0-74c51a8b9d81",
   "metadata": {},
   "source": [
    "### 3. The Subregion of Delhi with the maximum number of restaurants listed on Swiggy?\n"
   ]
  },
  {
   "cell_type": "code",
   "execution_count": 6,
   "id": "252146c0-fab3-4568-b6c7-7a0d23034d2d",
   "metadata": {},
   "outputs": [
    {
     "data": {
      "text/plain": [
       "('Indirapuram', 1279)"
      ]
     },
     "execution_count": 6,
     "metadata": {},
     "output_type": "execute_result"
    }
   ],
   "source": [
    "\n",
    "# Filter the data for restaurants in Delhi\n",
    "delhi_data = data[data['city'] == 'Delhi']\n",
    "\n",
    "# Count the number of restaurants for each subregion of Delhi\n",
    "subregion_counts = delhi_data['sub_region'].value_counts()\n",
    "\n",
    "# Get the subregion with the maximum number of restaurants\n",
    "max_subregion = subregion_counts.idxmax()\n",
    "max_count = subregion_counts.max()\n",
    "\n",
    "max_subregion, max_count\n",
    "\n"
   ]
  },
  {
   "cell_type": "markdown",
   "id": "f9127d29-73d5-4b23-813d-85d7c8da8ee1",
   "metadata": {},
   "source": [
    "#### The subregion of Delhi with the maximum number of restaurants listed on Swiggy is \"Indirapuram\" with 1,279 restaurants."
   ]
  },
  {
   "cell_type": "markdown",
   "id": "4844d20c-ca5b-4ec3-9e50-0c8335b6f05f",
   "metadata": {},
   "source": [
    "### 4. Name the top 5 Most Expensive Cities in the Datasets."
   ]
  },
  {
   "cell_type": "markdown",
   "id": "3bbb0c82-6e3f-4acf-8df9-b568667087a7",
   "metadata": {},
   "source": [
    "To determine the top 5 most expensive cities, we can calculate the average cost of restaurants for each city. The \"cost\" column seems to contain the restaurant's average cost, which we can use for this computation.\n",
    "\n",
    "However, before computing the average cost, we need to clean the \"cost\" column as it contains currency symbols and might also have commas or other characters that could prevent direct numerical operations."
   ]
  },
  {
   "cell_type": "markdown",
   "id": "3e92b856-fd8a-467e-a156-f4cba7fba0e6",
   "metadata": {},
   "source": [
    "##### first clean the \"cost\" column, and then compute the average costs for each city to determine the top 5 most expensive cities."
   ]
  },
  {
   "cell_type": "code",
   "execution_count": 7,
   "id": "e09e5d17-7198-49e1-a51a-6f9ca3c5cfbd",
   "metadata": {},
   "outputs": [
    {
     "data": {
      "text/plain": [
       "city\n",
       "Mumbai       366.408890\n",
       "Delhi        316.988494\n",
       "Guwahati     315.705210\n",
       "Kolkata      310.537793\n",
       "Bangalore    302.755718\n",
       "Name: numeric_cost, dtype: float64"
      ]
     },
     "execution_count": 7,
     "metadata": {},
     "output_type": "execute_result"
    }
   ],
   "source": [
    "# Replace empty strings with NaN and then convert the cost column to numeric values\n",
    "data['numeric_cost'] = pd.to_numeric(data['cost'].str.replace('₹', '').str.replace(',', ''), errors='coerce')\n",
    "\n",
    "# Calculate the average cost for each city again\n",
    "avg_city_cost = data.groupby('city')['numeric_cost'].mean()\n",
    "\n",
    "# Get the top 5 most expensive cities based on average cost\n",
    "top_5_expensive_cities = avg_city_cost.sort_values(ascending=False).head(5)\n",
    "\n",
    "top_5_expensive_cities\n"
   ]
  },
  {
   "cell_type": "markdown",
   "id": "cf8c0f2b-bd1e-48ea-8726-80a0650c08a7",
   "metadata": {},
   "source": [
    "#### The top 5 most expensive cities based on the average cost of restaurants listed on Swiggy are:\n",
    "\n",
    "##### * Mumbai: ₹366.41 (approx.)\n",
    "##### * Delhi: ₹316.99 (approx.)\n",
    "##### * Guwahati: ₹315.71 (approx.)\n",
    "##### * Kolkata: ₹310.54 (approx.)\n",
    "##### * Bangalore: ₹302.76 (approx.)"
   ]
  },
  {
   "cell_type": "markdown",
   "id": "d0b3300f-df32-4be2-b007-e53ae993b152",
   "metadata": {},
   "source": [
    "### 5. List out the top 5 Restaurants with Maximum & minimum ratings throughout the dataset."
   ]
  },
  {
   "cell_type": "markdown",
   "id": "4c5809ed-4e32-48ee-8337-d662121f60e3",
   "metadata": {},
   "source": [
    "To determine the top 5 restaurants with the maximum and minimum ratings, we'll first need to clean and convert the \"rating\" column to a numeric format, since it appears to have string values (based on the initial data inspection).\n",
    "\n",
    "Once the ratings are in a numeric format, we can identify the restaurants with the maximum and minimum ratings.\n",
    "\n"
   ]
  },
  {
   "cell_type": "markdown",
   "id": "1ac927c2-5be5-47d4-bdcf-bd4f76d3c841",
   "metadata": {},
   "source": [
    "#### Cleaning the \"rating\" column:"
   ]
  },
  {
   "cell_type": "code",
   "execution_count": 8,
   "id": "bb12e850-87f4-4a9c-8bb2-b51dba1619bc",
   "metadata": {},
   "outputs": [
    {
     "data": {
      "text/plain": [
       "(                      resturant_name  numeric_rating\n",
       " 48995   Dessert Studio by Third Wave             5.0\n",
       " 88280                Wraps and Rolls             5.0\n",
       " 102450                 HRX by Eatfit             5.0\n",
       " 38455                Regalo Delights             5.0\n",
       " 88254                  Hungry Buddha             5.0,\n",
       "                            resturant_name  numeric_rating\n",
       " 21958             Ice Cream and Shakes Co             1.0\n",
       " 13244                     Persian Delight             1.1\n",
       " 24051   SHAWARMA WRAP - ROLL YOUR SECRETS             1.2\n",
       " 180072   Champaran Mutton Hundy & Biryani             1.2\n",
       " 38067                      THE TARI STORY             1.2)"
      ]
     },
     "execution_count": 8,
     "metadata": {},
     "output_type": "execute_result"
    }
   ],
   "source": [
    "# Convert rating column to numeric values, setting errors='coerce' to handle non-numeric values\n",
    "data['numeric_rating'] = pd.to_numeric(data['rating'], errors='coerce')\n",
    "\n",
    "# Get the top 5 restaurants with maximum ratings\n",
    "top_5_max_ratings = data.sort_values(by='numeric_rating', ascending=False).drop_duplicates(subset='resturant_name').head(5)\n",
    "\n",
    "# Get the top 5 restaurants with minimum ratings (excluding NaN values)\n",
    "top_5_min_ratings = data[data['numeric_rating'].notna()].sort_values(by='numeric_rating').drop_duplicates(subset='resturant_name').head(5)\n",
    "\n",
    "top_5_max_ratings[['resturant_name', 'numeric_rating']], top_5_min_ratings[['resturant_name', 'numeric_rating']]\n",
    "\n"
   ]
  },
  {
   "cell_type": "markdown",
   "id": "96d5ff75-e6fa-45a0-9efa-530545326c21",
   "metadata": {},
   "source": [
    "#### Here are the top 5 restaurants with:\n",
    "\n",
    "#### Maximum Ratings:\n",
    "\n",
    "1. Dessert Studio by Third Wave: Rating 5.0\n",
    "2. Wraps and Rolls: Rating 5.0\n",
    "3. HRX by Eatfit: Rating 5.0\n",
    "4. Regalo Delights: Rating 5.0\n",
    "5. Hungry Buddha: Rating 5.0\n",
    "#### Minimum Ratings:\n",
    "\n",
    "1. Ice Cream and Shakes Co: Rating 1.0\n",
    "2. Persian Delight: Rating 1.1\n",
    "3. SHAWARMA WRAP - ROLL YOUR SECRETS: Rating 1.2\n",
    "4. Champaran Mutton Hundy & Biryani: Rating 1.2\n",
    "5. THE TARI STORY: Rating 1.2\n",
    "The minimum ratings list has multiple restaurants with a rating of 1.2, indicating a tie for some positions.\n"
   ]
  },
  {
   "cell_type": "markdown",
   "id": "ea194f9d-8a90-48f1-abe2-91340b6197ea",
   "metadata": {},
   "source": [
    "### 6. Name of top 5 cities with the highest number of restaurants listed."
   ]
  },
  {
   "cell_type": "code",
   "execution_count": 9,
   "id": "2bcff514-76c4-467c-8aa4-c9c323abaab4",
   "metadata": {},
   "outputs": [
    {
     "data": {
      "text/plain": [
       "city\n",
       "Bangalore    16701\n",
       "Delhi        14386\n",
       "Pune         13145\n",
       "Hyderabad    12439\n",
       "Chennai      10987\n",
       "Name: count, dtype: int64"
      ]
     },
     "execution_count": 9,
     "metadata": {},
     "output_type": "execute_result"
    }
   ],
   "source": [
    "# Count the number of restaurants for each city\n",
    "city_restaurant_counts = data['city'].value_counts()\n",
    "\n",
    "# Get the top 5 cities with the highest number of restaurants listed\n",
    "top_5_cities_with_most_restaurants = city_restaurant_counts.head(5)\n",
    "\n",
    "top_5_cities_with_most_restaurants\n"
   ]
  },
  {
   "cell_type": "markdown",
   "id": "29e637c7-077c-48a5-8f73-4be6c26df805",
   "metadata": {},
   "source": [
    "#### The top 5 cities with the highest number of restaurants listed on Swiggy are:\n",
    "\n",
    "* Bangalore: 16,701 restaurants\n",
    "* Delhi: 14,386 restaurants\n",
    "* Pune: 13,145 restaurants\n",
    "* Hyderabad: 12,439 restaurants\n",
    "* Chennai: 10,987 restaurants."
   ]
  },
  {
   "cell_type": "markdown",
   "id": "53a73216-1e05-4cb5-beb8-08d344dfdd08",
   "metadata": {},
   "source": [
    "### 7. Top 10 cities as per the number of restaurants listed?"
   ]
  },
  {
   "cell_type": "code",
   "execution_count": 10,
   "id": "67b3a4f7-7cc2-40d8-8fb7-af55becfda4f",
   "metadata": {},
   "outputs": [
    {
     "data": {
      "text/plain": [
       "city\n",
       "Bangalore    16701\n",
       "Delhi        14386\n",
       "Pune         13145\n",
       "Hyderabad    12439\n",
       "Chennai      10987\n",
       "Kolkata       9651\n",
       "Mumbai        7221\n",
       "Jaipur        6250\n",
       "Ahmedabad     4736\n",
       "Gurgaon       4106\n",
       "Name: count, dtype: int64"
      ]
     },
     "execution_count": 10,
     "metadata": {},
     "output_type": "execute_result"
    }
   ],
   "source": [
    "# Get the top 10 cities with the highest number of restaurants listed\n",
    "top_10_cities_with_most_restaurants = city_restaurant_counts.head(10)\n",
    "\n",
    "top_10_cities_with_most_restaurants\n",
    "\n"
   ]
  },
  {
   "cell_type": "markdown",
   "id": "e5f5acfc-68a7-4a81-aa5a-ab5626359731",
   "metadata": {},
   "source": [
    "#### The top 10 cities with the highest number of restaurants listed on Swiggy are:\n",
    "\n",
    "1. Bangalore: 16,701 restaurants\n",
    "2. Delhi: 14,386 restaurants\n",
    "3. Pune: 13,145 restaurants\n",
    "4. Hyderabad: 12,439 restaurants\n",
    "5. Chennai: 10,987 restaurants\n",
    "6. Kolkata: 9,651 restaurants\n",
    "7. Mumbai: 7,221 restaurants\n",
    "8. Jaipur: 6,250 restaurants\n",
    "9. Ahmedabad: 4,736 restaurants\n",
    "10. Gurgaon: 4,106 restaurants."
   ]
  },
  {
   "cell_type": "markdown",
   "id": "2400b495-3bfc-4288-aab4-4af7cc607886",
   "metadata": {},
   "source": [
    "### 8. Name the top 5 Most Popular Restaurants in Pune."
   ]
  },
  {
   "cell_type": "markdown",
   "id": "229d1e9a-943e-41f5-8a07-c45866c38630",
   "metadata": {},
   "source": [
    "To determine the top 5 most popular restaurants in Pune, we'll consider the \"rating_count\" column as an indicator of popularity. A higher rating count would suggest that the restaurant is more popular, as more people have rated it.\n",
    "\n",
    "However, before we can sort by this column, we need to clean and convert the \"rating_count\" column to a numeric format, since it appears to contain string values like \"100+ ratings\"."
   ]
  },
  {
   "cell_type": "markdown",
   "id": "534b6cd0-fb99-4aa7-943f-29f634400c21",
   "metadata": {},
   "source": [
    "#### Cleaning the \"rating_count\" column and then identify the top 5 most popular restaurants in Pune:"
   ]
  },
  {
   "cell_type": "code",
   "execution_count": 11,
   "id": "5e26c6b8-ba56-4905-93d6-c97e9b3605c4",
   "metadata": {},
   "outputs": [
    {
     "data": {
      "text/html": [
       "<div>\n",
       "<style scoped>\n",
       "    .dataframe tbody tr th:only-of-type {\n",
       "        vertical-align: middle;\n",
       "    }\n",
       "\n",
       "    .dataframe tbody tr th {\n",
       "        vertical-align: top;\n",
       "    }\n",
       "\n",
       "    .dataframe thead th {\n",
       "        text-align: right;\n",
       "    }\n",
       "</style>\n",
       "<table border=\"1\" class=\"dataframe\">\n",
       "  <thead>\n",
       "    <tr style=\"text-align: right;\">\n",
       "      <th></th>\n",
       "      <th>resturant_name</th>\n",
       "      <th>numeric_rating_count</th>\n",
       "    </tr>\n",
       "  </thead>\n",
       "  <tbody>\n",
       "    <tr>\n",
       "      <th>98025</th>\n",
       "      <td>Yaron Da Adda - Dil se Punjabi</td>\n",
       "      <td>500.0</td>\n",
       "    </tr>\n",
       "    <tr>\n",
       "      <th>98900</th>\n",
       "      <td>Bedekar Misal</td>\n",
       "      <td>500.0</td>\n",
       "    </tr>\n",
       "    <tr>\n",
       "      <th>95113</th>\n",
       "      <td>Delhi Kitchen (Pimple Saudagar)</td>\n",
       "      <td>500.0</td>\n",
       "    </tr>\n",
       "    <tr>\n",
       "      <th>95107</th>\n",
       "      <td>Mad Over Bowls (MOB)</td>\n",
       "      <td>500.0</td>\n",
       "    </tr>\n",
       "    <tr>\n",
       "      <th>95095</th>\n",
       "      <td>Bird Valley</td>\n",
       "      <td>500.0</td>\n",
       "    </tr>\n",
       "  </tbody>\n",
       "</table>\n",
       "</div>"
      ],
      "text/plain": [
       "                        resturant_name  numeric_rating_count\n",
       "98025   Yaron Da Adda - Dil se Punjabi                 500.0\n",
       "98900                    Bedekar Misal                 500.0\n",
       "95113  Delhi Kitchen (Pimple Saudagar)                 500.0\n",
       "95107             Mad Over Bowls (MOB)                 500.0\n",
       "95095                      Bird Valley                 500.0"
      ]
     },
     "execution_count": 11,
     "metadata": {},
     "output_type": "execute_result"
    }
   ],
   "source": [
    "# Replace \"Too Few Ratings\" with NaN and then convert the rating_count column to numeric values\n",
    "data['numeric_rating_count'] = pd.to_numeric(data['rating_count'].str.replace(' ratings', '').str.replace('+', '').str.replace(',', '').replace('Too Few Ratings', float('nan')), errors='coerce')\n",
    "\n",
    "# Filter for restaurants in Pune and sort by the numeric_rating_count to get the most popular restaurants again\n",
    "pune_popular_restaurants = data[data['city'] == 'Pune'].sort_values(by='numeric_rating_count', ascending=False).drop_duplicates(subset='resturant_name')\n",
    "\n",
    "# Get the top 5 most popular restaurants in Pune\n",
    "top_5_popular_pune_restaurants = pune_popular_restaurants.head(5)\n",
    "\n",
    "top_5_popular_pune_restaurants[['resturant_name', 'numeric_rating_count']]\n"
   ]
  },
  {
   "cell_type": "markdown",
   "id": "d081ee20-ba59-4a9d-81d7-fa3895c098a6",
   "metadata": {},
   "source": [
    "#### The top 5 most popular restaurants in Pune, based on the number of ratings, are:\n",
    "\n",
    "* Yaron Da Adda - Dil se Punjabi: 500 ratings\n",
    "* Bedekar Misal: 500 ratings\n",
    "* Delhi Kitchen (Pimple Saudagar): 500 ratings\n",
    "* Mad Over Bowls (MOB): 500 ratings\n",
    "* Bird Valley: 500 ratings\n",
    "\n",
    "Multiple restaurants have the same number of ratings, indicating a tie for some positions."
   ]
  },
  {
   "cell_type": "markdown",
   "id": "31cb3179-bf59-4bed-84d5-be2cd1c11ea3",
   "metadata": {},
   "source": [
    "### 9. Which SubRegion in Delhi is having the least expensive restaurant in terms of cost?"
   ]
  },
  {
   "cell_type": "markdown",
   "id": "72d5dbff-d931-427d-8168-85fd202621e5",
   "metadata": {},
   "source": [
    "To determine the subregion in Delhi with the least expensive restaurant, we'll look for the minimum value in the numeric_cost column for restaurants in Delhi and then identify the corresponding subregion.\n"
   ]
  },
  {
   "cell_type": "code",
   "execution_count": 12,
   "id": "1d0f3ce2-35a1-42bb-942c-61c6475fd0fd",
   "metadata": {},
   "outputs": [
    {
     "data": {
      "text/plain": [
       "('Dilshad Gardens', 1.0)"
      ]
     },
     "execution_count": 12,
     "metadata": {},
     "output_type": "execute_result"
    }
   ],
   "source": [
    "# Filter data for Delhi\n",
    "delhi_data = data[data['city'] == 'Delhi']\n",
    "\n",
    "# Find the row with the minimum cost in Delhi\n",
    "least_expensive_row = delhi_data[delhi_data['numeric_cost'] == delhi_data['numeric_cost'].min()]\n",
    "\n",
    "# Extract the subregion of the least expensive restaurant\n",
    "least_expensive_subregion = least_expensive_row['sub_region'].iloc[0]\n",
    "least_expensive_cost = least_expensive_row['numeric_cost'].iloc[0]\n",
    "\n",
    "least_expensive_subregion, least_expensive_cost\n"
   ]
  },
  {
   "cell_type": "markdown",
   "id": "754a7753-38af-40c1-931b-0b4b54743830",
   "metadata": {},
   "source": [
    "#### The subregion in Delhi with the least expensive restaurant, in terms of cost, is \"Dilshad Gardens\" with a cost of ₹1.0."
   ]
  },
  {
   "cell_type": "markdown",
   "id": "dcdc5500-65af-4c90-8323-376d8fc582bf",
   "metadata": {},
   "source": [
    "### 10. Top 5 most popular restaurant chains in India?"
   ]
  },
  {
   "cell_type": "markdown",
   "id": "e4489655-8a13-491e-bfc4-2ef786199108",
   "metadata": {},
   "source": [
    "To determine the top 5 most popular restaurant chains in India, we'll consider the \"numeric_rating_count\" column as an indicator of popularity. A chain is defined as a restaurant name that appears in multiple cities or subregions.\n",
    "\n",
    "We'll aggregate the total rating counts for each restaurant name across the dataset and then identify the top 5 chains based on these aggregated counts."
   ]
  },
  {
   "cell_type": "code",
   "execution_count": 13,
   "id": "78fed5c2-37be-4943-8d42-b309a1627618",
   "metadata": {},
   "outputs": [
    {
     "data": {
      "text/plain": [
       "resturant_name\n",
       "KFC                       41216.9\n",
       "Subway                    37744.6\n",
       "NIC Natural Ice Creams    37175.9\n",
       "Pizza Hut                 34515.0\n",
       "Domino's Pizza            32043.8\n",
       "Name: numeric_rating_count, dtype: float64"
      ]
     },
     "execution_count": 13,
     "metadata": {},
     "output_type": "execute_result"
    }
   ],
   "source": [
    "# Group by restaurant name and aggregate the total rating counts\n",
    "restaurant_chain_popularity = data.groupby('resturant_name')['numeric_rating_count'].sum()\n",
    "\n",
    "# Sort the restaurants by total rating counts to get the most popular chains\n",
    "top_5_popular_chains = restaurant_chain_popularity.sort_values(ascending=False).head(5)\n",
    "\n",
    "top_5_popular_chains\n"
   ]
  },
  {
   "cell_type": "markdown",
   "id": "bf900c32-a1f3-48a8-a6e9-25c687ca3e59",
   "metadata": {},
   "source": [
    "#### The top 5 most popular restaurant chains in India, based on the number of ratings, are:\n",
    "\n",
    "1. KFC: 41,216.9 ratings\n",
    "2. Subway: 37,744.6 ratings\n",
    "3. NIC Natural Ice Creams: 37,175.9 ratings\n",
    "4. Pizza Hut: 34,515.0 ratings\n",
    "5. Domino's Pizza: 32,043.8 ratings"
   ]
  },
  {
   "cell_type": "markdown",
   "id": "45fc8ad3-0e03-4665-88fe-6137dd0f2d80",
   "metadata": {},
   "source": [
    "### 11. Which restaurant in Pune has the most number of people visiting?"
   ]
  },
  {
   "cell_type": "markdown",
   "id": "21fba1bd-a397-4c4a-927c-5d03f73c12e5",
   "metadata": {},
   "source": [
    "The number of people visiting can be inferred from the \"numeric_rating_count\" column, as a higher rating count indicates more people have visited and rated the restaurant.\n",
    "\n",
    "To determine which restaurant in Pune has the most number of people visiting, we'll filter for restaurants in Pune and then identify the one with the highest rating count."
   ]
  },
  {
   "cell_type": "code",
   "execution_count": 14,
   "id": "309e0485-2fdd-465b-97b1-5dadb8a4fbfd",
   "metadata": {},
   "outputs": [
    {
     "data": {
      "text/plain": [
       "('Yaron Da Adda - Dil se Punjabi', 500.0)"
      ]
     },
     "execution_count": 14,
     "metadata": {},
     "output_type": "execute_result"
    }
   ],
   "source": [
    "# Filter for restaurants in Pune and sort by the numeric_rating_count to get the most visited restaurant\n",
    "most_visited_pune_restaurant = data[data['city'] == 'Pune'].sort_values(by='numeric_rating_count', ascending=False).head(1)\n",
    "\n",
    "# Extract the restaurant name and its rating count\n",
    "most_visited_restaurant_name = most_visited_pune_restaurant['resturant_name'].iloc[0]\n",
    "most_visited_restaurant_count = most_visited_pune_restaurant['numeric_rating_count'].iloc[0]\n",
    "\n",
    "most_visited_restaurant_name, most_visited_restaurant_count\n"
   ]
  },
  {
   "cell_type": "markdown",
   "id": "a327ce16-251f-4342-aa28-71878e8063cc",
   "metadata": {},
   "source": [
    "#### The restaurant in Pune with the most number of people visiting (based on rating count) is \"Yaron Da Adda - Dil se Punjabi\" with 500 ratings."
   ]
  },
  {
   "cell_type": "markdown",
   "id": "610e7f3d-71dc-4b07-aee0-20b07b65f9bd",
   "metadata": {},
   "source": [
    "### 12. Top 10 Restaurants with Maximum Ratings in Banglore"
   ]
  },
  {
   "cell_type": "code",
   "execution_count": 15,
   "id": "8c009d5a-f3b8-41f2-94f0-cf6c5aafa2d1",
   "metadata": {},
   "outputs": [
    {
     "data": {
      "text/html": [
       "<div>\n",
       "<style scoped>\n",
       "    .dataframe tbody tr th:only-of-type {\n",
       "        vertical-align: middle;\n",
       "    }\n",
       "\n",
       "    .dataframe tbody tr th {\n",
       "        vertical-align: top;\n",
       "    }\n",
       "\n",
       "    .dataframe thead th {\n",
       "        text-align: right;\n",
       "    }\n",
       "</style>\n",
       "<table border=\"1\" class=\"dataframe\">\n",
       "  <thead>\n",
       "    <tr style=\"text-align: right;\">\n",
       "      <th></th>\n",
       "      <th>resturant_name</th>\n",
       "      <th>numeric_rating</th>\n",
       "    </tr>\n",
       "  </thead>\n",
       "  <tbody>\n",
       "    <tr>\n",
       "      <th>113027</th>\n",
       "      <td>SHAWARMA INDIAH</td>\n",
       "      <td>5.0</td>\n",
       "    </tr>\n",
       "    <tr>\n",
       "      <th>14272</th>\n",
       "      <td>BigBites</td>\n",
       "      <td>5.0</td>\n",
       "    </tr>\n",
       "    <tr>\n",
       "      <th>11269</th>\n",
       "      <td>Joao's Croissant Fusion</td>\n",
       "      <td>5.0</td>\n",
       "    </tr>\n",
       "    <tr>\n",
       "      <th>11291</th>\n",
       "      <td>Hot Chillies Fast  Food</td>\n",
       "      <td>5.0</td>\n",
       "    </tr>\n",
       "    <tr>\n",
       "      <th>11299</th>\n",
       "      <td>PEDRO DE GOA</td>\n",
       "      <td>5.0</td>\n",
       "    </tr>\n",
       "    <tr>\n",
       "      <th>8227</th>\n",
       "      <td>Mamaji PavBhaji</td>\n",
       "      <td>5.0</td>\n",
       "    </tr>\n",
       "    <tr>\n",
       "      <th>11557</th>\n",
       "      <td>ESCOBAR PANINI s</td>\n",
       "      <td>5.0</td>\n",
       "    </tr>\n",
       "    <tr>\n",
       "      <th>11562</th>\n",
       "      <td>Mels SubHub</td>\n",
       "      <td>5.0</td>\n",
       "    </tr>\n",
       "    <tr>\n",
       "      <th>11742</th>\n",
       "      <td>HRX by Eatfit</td>\n",
       "      <td>5.0</td>\n",
       "    </tr>\n",
       "    <tr>\n",
       "      <th>8134</th>\n",
       "      <td>The Lassi Pub</td>\n",
       "      <td>5.0</td>\n",
       "    </tr>\n",
       "  </tbody>\n",
       "</table>\n",
       "</div>"
      ],
      "text/plain": [
       "                 resturant_name  numeric_rating\n",
       "113027          SHAWARMA INDIAH             5.0\n",
       "14272                  BigBites             5.0\n",
       "11269   Joao's Croissant Fusion             5.0\n",
       "11291   Hot Chillies Fast  Food             5.0\n",
       "11299              PEDRO DE GOA             5.0\n",
       "8227            Mamaji PavBhaji             5.0\n",
       "11557          ESCOBAR PANINI s             5.0\n",
       "11562               Mels SubHub             5.0\n",
       "11742             HRX by Eatfit             5.0\n",
       "8134              The Lassi Pub             5.0"
      ]
     },
     "execution_count": 15,
     "metadata": {},
     "output_type": "execute_result"
    }
   ],
   "source": [
    "# Filter for restaurants in Bangalore and sort by the numeric_rating to get the top 10 restaurants with maximum ratings\n",
    "top_10_rated_bangalore_restaurants = data[data['city'] == 'Bangalore'].sort_values(by='numeric_rating', ascending=False).drop_duplicates(subset='resturant_name').head(10)\n",
    "\n",
    "top_10_rated_bangalore_restaurants[['resturant_name', 'numeric_rating']]\n"
   ]
  },
  {
   "cell_type": "markdown",
   "id": "70e55248-4972-4bd8-a7ce-65048ccdd308",
   "metadata": {},
   "source": [
    "#### The top 10 restaurants in Bangalore with the maximum ratings are:\n",
    "\n",
    "SHAWARMA INDIAH: Rating 5.0\n",
    "BigBites: Rating 5.0\n",
    "Joao's Croissant Fusion: Rating 5.0\n",
    "Hot Chillies Fast Food: Rating 5.0\n",
    "PEDRO DE GOA: Rating 5.0\n",
    "Mamaji PavBhaji: Rating 5.0\n",
    "ESCOBAR PANINI s: Rating 5.0\n",
    "Mels SubHub: Rating 5.0\n",
    "HRX by Eatfit: Rating 5.0\n",
    "The Lassi Pub: Rating 5.0\n",
    "\n",
    "Multiple restaurants have a rating of 5.0, indicating a tie for the top positions."
   ]
  },
  {
   "cell_type": "markdown",
   "id": "e8c9b3fd-8cdc-4c40-ac98-183a037bd864",
   "metadata": {},
   "source": [
    "### 13. Top 10 Restaurant in Patna w.r.t rating "
   ]
  },
  {
   "cell_type": "code",
   "execution_count": 16,
   "id": "ff385275-d586-40b3-9e4f-30be2764c76b",
   "metadata": {},
   "outputs": [
    {
     "data": {
      "text/plain": [
       "0"
      ]
     },
     "execution_count": 16,
     "metadata": {},
     "output_type": "execute_result"
    }
   ],
   "source": [
    "\n",
    "patna_data = data[data['city'] == 'Patna']\n",
    "len(patna_data)\n"
   ]
  },
  {
   "cell_type": "code",
   "execution_count": 17,
   "id": "bfdd2617-5d97-413a-a495-89c4f2fe39d8",
   "metadata": {},
   "outputs": [
    {
     "data": {
      "text/html": [
       "<div>\n",
       "<style scoped>\n",
       "    .dataframe tbody tr th:only-of-type {\n",
       "        vertical-align: middle;\n",
       "    }\n",
       "\n",
       "    .dataframe tbody tr th {\n",
       "        vertical-align: top;\n",
       "    }\n",
       "\n",
       "    .dataframe thead th {\n",
       "        text-align: right;\n",
       "    }\n",
       "</style>\n",
       "<table border=\"1\" class=\"dataframe\">\n",
       "  <thead>\n",
       "    <tr style=\"text-align: right;\">\n",
       "      <th></th>\n",
       "      <th>resturant_name</th>\n",
       "      <th>numeric_rating</th>\n",
       "    </tr>\n",
       "  </thead>\n",
       "  <tbody>\n",
       "  </tbody>\n",
       "</table>\n",
       "</div>"
      ],
      "text/plain": [
       "Empty DataFrame\n",
       "Columns: [resturant_name, numeric_rating]\n",
       "Index: []"
      ]
     },
     "execution_count": 17,
     "metadata": {},
     "output_type": "execute_result"
    }
   ],
   "source": [
    "# Filter for restaurants in Patna and sort by the numeric_rating to get the top 10 restaurants based on ratings\n",
    "top_10_rated_patna_restaurants = data[data['city'] == 'Patna'].sort_values(by='numeric_rating', ascending=False).drop_duplicates(subset='resturant_name').head(10)\n",
    "\n",
    "top_10_rated_patna_restaurants[['resturant_name', 'numeric_rating']]\n"
   ]
  },
  {
   "cell_type": "markdown",
   "id": "3584bade-cb2c-4fc4-ba38-c47e41cd2cb5",
   "metadata": {},
   "source": [
    "#### It appears that there are no restaurants listed for Patna in the dataset. Thus, we cannot provide the top 10 restaurants in Patna with respect to ratings."
   ]
  },
  {
   "cell_type": "markdown",
   "id": "7ce39419-05c6-42eb-9fd9-c1fea323d771",
   "metadata": {},
   "source": [
    "### Conclusion:"
   ]
  },
  {
   "cell_type": "markdown",
   "id": "a2beb684-77b6-416d-9aa2-a67638909745",
   "metadata": {},
   "source": [
    "#### Geographical Presence:\n",
    "   * Swiggy has its restaurants listed in 27 unique cities and 865 unique city-subregion combinations.\n",
    "   * The top cities with the highest number of restaurant listings are Bangalore, Delhi, Pune, Hyderabad, and Chennai.\n",
    "#### Restaurant Popularity:\n",
    "   * The top 5 most popular restaurant chains in India, based on the number of ratings, are KFC, Subway, NIC Natural Ice Creams, Pizza Hut, and Domino's Pizza.\n",
    "   * In Pune, the most visited restaurant is \"Yaron Da Adda - Dil se Punjabi\".\n",
    "   * In Bangalore, multiple restaurants have a perfect rating of 5.0, making them the top-rated ones.\n",
    "#### Cost Analysis:\n",
    "   * Mumbai is the most expensive city in terms of average restaurant cost, followed by Delhi, Guwahati, Kolkata, and Bangalore.\n",
    "   * The subregion in Delhi with the least expensive restaurant (cost of ₹1.0) is Dilshad Gardens.\n",
    "#### Ratings:\n",
    "   * The subregion in Delhi with the most number of restaurants listed on Swiggy is Indirapuram.\n",
    "   * Several restaurants, particularly in major cities, have achieved the maximum rating of 5.0.\n",
    "   * There were no listings for Patna in the dataset, so we couldn't determine the top-rated restaurants there.     "
   ]
  },
  {
   "cell_type": "markdown",
   "id": "1bd8e59d-4559-4683-9e96-9917d6fdc8ff",
   "metadata": {},
   "source": [
    "##### This dataset provides valuable insights into the Indian restaurant landscape as seen through Swiggy. It showcases consumer preferences, restaurant popularity, and geographical distribution. Such insights can be instrumental for restaurant owners to understand market dynamics, for consumers to make informed dining decisions, and for platforms like Swiggy to refine their strategies and offerings."
   ]
  },
  {
   "cell_type": "code",
   "execution_count": null,
   "id": "9bf97ddd-4835-45f7-90a7-5a262a778b51",
   "metadata": {},
   "outputs": [],
   "source": []
  },
  {
   "cell_type": "code",
   "execution_count": null,
   "id": "c90e14f6-6833-4937-aded-35f9d23fa966",
   "metadata": {},
   "outputs": [],
   "source": []
  },
  {
   "cell_type": "code",
   "execution_count": null,
   "id": "78d2f0ea-3009-4602-bda3-dbdfbf366e92",
   "metadata": {},
   "outputs": [],
   "source": []
  }
 ],
 "metadata": {
  "kernelspec": {
   "display_name": "Python 3 (ipykernel)",
   "language": "python",
   "name": "python3"
  },
  "language_info": {
   "codemirror_mode": {
    "name": "ipython",
    "version": 3
   },
   "file_extension": ".py",
   "mimetype": "text/x-python",
   "name": "python",
   "nbconvert_exporter": "python",
   "pygments_lexer": "ipython3",
   "version": "3.9.13"
  }
 },
 "nbformat": 4,
 "nbformat_minor": 5
}
