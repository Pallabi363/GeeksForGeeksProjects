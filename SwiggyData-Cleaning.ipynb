{
 "cells": [
  {
   "cell_type": "markdown",
   "id": "9527dcde-2ba4-4854-aa61-83cdb3bb1e30",
   "metadata": {},
   "source": [
    "## Data With City and SubRegions"
   ]
  },
  {
   "cell_type": "code",
   "execution_count": 27,
   "id": "90daa69a-3960-4a55-a000-39bb0b6d3370",
   "metadata": {},
   "outputs": [],
   "source": [
    "import json\n",
    "import csv\n",
    "from tqdm import tqdm"
   ]
  },
  {
   "cell_type": "markdown",
   "id": "7ba40afb-7c87-4d96-8ee5-32e055259fa1",
   "metadata": {},
   "source": [
    "#### Loading File:"
   ]
  },
  {
   "cell_type": "code",
   "execution_count": 28,
   "id": "db35cd9b-e9ee-40be-aaea-17b85b4ac49d",
   "metadata": {},
   "outputs": [],
   "source": [
    "file_path = \"data.json\"\n",
    "with open(file_path, \"r\") as file:\n",
    "    data = json.load(file)\n",
    "#print(data)"
   ]
  },
  {
   "cell_type": "markdown",
   "id": "cd9b091f-5a64-4c18-8650-233c646ba3ab",
   "metadata": {},
   "source": [
    "This code reads the contents of the file named data.json, parses it as JSON, and stores the resulting Python object in the variable data."
   ]
  },
  {
   "cell_type": "code",
   "execution_count": 29,
   "id": "432eb73e-2f26-4acd-911b-4a12ac30ecae",
   "metadata": {},
   "outputs": [],
   "source": [
    "def csv_writer(data, method, save_as, headers=None):\n",
    "    \"\"\"Write CSV by inputing data and path\"\"\"\n",
    "\n",
    "    file_path = save_as\n",
    "\n",
    "    with open(file_path, method, encoding='utf8') as csvfile:\n",
    "        if headers == None:\n",
    "            try:\n",
    "                headers = data[0].keys()\n",
    "            except:\n",
    "                headers = data.keys()\n",
    "        writer = csv.DictWriter(\n",
    "            csvfile, lineterminator='\\n', fieldnames=headers)\n",
    "        if method != 'a':\n",
    "            writer.writeheader()\n",
    "        try:\n",
    "            [writer.writerow(d) for d in data]\n",
    "        except:\n",
    "            writer.writerow(data)"
   ]
  },
  {
   "cell_type": "markdown",
   "id": "611c3240-d135-4b6c-8966-87789a3e118b",
   "metadata": {},
   "source": [
    "This function, csv_writer, takes in data (usually in the form of dictionaries), a method ('a' for append or other values for write), a filename (save_as), and optional headers, then writes or appends the data to a CSV file:\n",
    "\n",
    "* file_path: The file path for the CSV is derived from the save_as parameter.\n",
    "The file is opened in the specified mode (method).\n",
    "* If headers aren't provided, the function tries to infer them from the first item of the data (assuming it's a list of dictionaries) or from the data itself (assuming it's a dictionary).\n",
    "* A DictWriter object from the csv module is used to write the data to the CSV. This object allows for writing dictionaries directly to a CSV file.\n",
    "* If the method isn't 'a' (append), the headers are written to the CSV.\n",
    "* The function then tries to write each dictionary in the data to the CSV. If this fails (indicating that the data is not a list of dictionaries but perhaps a single dictionary), it writes the single dictionary directly.\n",
    "\n",
    "this function provides a flexible way to write dictionaries to a CSV, either as a new file, appended data, or with specified headers."
   ]
  },
  {
   "cell_type": "code",
   "execution_count": 13,
   "id": "a84a1c64-bade-416f-a490-48aca4cfd4ed",
   "metadata": {},
   "outputs": [],
   "source": [
    "cities = ['Ahmedabad',\n",
    " 'Bangalore',\n",
    " 'Chandigarh',\n",
    " 'Chennai',\n",
    " 'Coimbatore',\n",
    " 'Dehradun',\n",
    " 'Delhi',\n",
    " 'Gadwal',\n",
    " 'Gurgaon',\n",
    " 'Guwahati',\n",
    " 'Hyderabad',\n",
    " 'Indore',\n",
    " 'Jaipur',\n",
    " 'Jalandhar',\n",
    " 'Kanpur',\n",
    " 'Kochi',\n",
    " 'Kolkata',\n",
    " 'Lucknow',\n",
    " 'Ludhiana',\n",
    " 'Mumbai',\n",
    " 'Mysore',\n",
    " 'Nagpur',\n",
    " 'Nashik',\n",
    " 'Noida',\n",
    " 'Pune',\n",
    " 'Surat',\n",
    " 'Vadodara',\n",
    " 'Vijayawada',\n",
    " 'Vizag']"
   ]
  },
  {
   "cell_type": "code",
   "execution_count": 14,
   "id": "793ba5da-9c43-4f21-88db-90cd440595ee",
   "metadata": {},
   "outputs": [
    {
     "name": "stderr",
     "output_type": "stream",
     "text": [
      "100%|█████████████████████████████████████████████████████████████████| 30/30 [00:22<00:00,  1.34it/s]\n"
     ]
    }
   ],
   "source": [
    "filename = 'Swiggy_Data_With_City_SubRegions.csv'\n",
    "with open(filename, 'w') as f:\n",
    "    wr = csv.writer(f)\n",
    "    wr.writerow(['city','sub_region','resturant_name','rating','rating_count','cost','cuisine'])\n",
    "\n",
    "for city in tqdm(cities):\n",
    "    sub_cities = list(data[city].keys())[:-1]\n",
    "    for sub_city in sub_cities:\n",
    "        if sub_city !='link':\n",
    "            resturant_ids = list(data[city][sub_city]['restaurants'].keys())\n",
    "            for resutrant in resturant_ids:\n",
    "                try:\n",
    "                    city = city\n",
    "                except:\n",
    "                    city=\" \"\n",
    "                try:\n",
    "                    sub_city = sub_city\n",
    "                except:\n",
    "                    sub_city=\" \"\n",
    "                try:\n",
    "                    name = data[city][sub_city]['restaurants'][resutrant]['name']\n",
    "                except:\n",
    "                    name=\" \"\n",
    "                try:\n",
    "                    rating = data[city][sub_city]['restaurants'][resutrant]['rating']\n",
    "                except:\n",
    "                    rating=\" \"\n",
    "\n",
    "                try:\n",
    "                    rating_count = data[city][sub_city]['restaurants'][resutrant]['rating_count']\n",
    "                except:\n",
    "                    rating=\" \"\n",
    "                \n",
    "                    \n",
    "                try:\n",
    "                    cost = data[city][sub_city]['restaurants'][resutrant]['cost']\n",
    "                except:\n",
    "                    cost = \" \"\n",
    "                try:\n",
    "                    cuisine = data[city][sub_city]['restaurants'][resutrant]['cuisine']\n",
    "                except:\n",
    "                    cuisine=\" \"\n",
    "\n",
    "                \n",
    "                with open(filename, 'a') as f:\n",
    "                    wr = csv.writer(f)\n",
    "                    wr.writerow([city,sub_city,name,rating,rating_count,cost,cuisine])"
   ]
  },
  {
   "cell_type": "markdown",
   "id": "0893dd8c-91f4-44da-b14e-6df6137650a3",
   "metadata": {},
   "source": [
    "This code snippet is designed to extract restaurant data from a nested dictionary structure (data) and write it to a CSV file named 'Swiggy_Data_With_City_SubRegions.csv'.\n",
    "\n",
    "* A new CSV file, 'Swiggy_Data_With_City_SubRegions.csv', is initialized with headers: city, sub_region, resturant_name, rating, rating_count, cost, and cuisine.\n",
    "* For each city in the provided cities list:\n",
    "* \n",
    "   It extracts the sub-regions (or sub-cities) from the data dictionary. It avoids the last key and any key named 'link'.\n",
    "  \n",
    "  For each sub_city in the list of sub-regions:\n",
    "  It retrieves the list of restaurant IDs.\n",
    "  \n",
    "  For each restaurant:\n",
    "  It extracts various details such as name, rating, rating count, cost, and cuisine. If any of these details are missing or cause an error, it assigns a blank space as the value.\n",
    "  These details are then appended to the CSV file.\n",
    " * The code utilizes the tqdm module to show a progress bar while processing the cities.\n",
    "     "
   ]
  },
  {
   "cell_type": "markdown",
   "id": "508dd9a0-0cbc-4c3c-9724-3504e0a29bb6",
   "metadata": {},
   "source": [
    "## Only with Sub Region Name"
   ]
  },
  {
   "cell_type": "code",
   "execution_count": 15,
   "id": "f68bb712-ba1f-4cb4-8e76-af23fdb4ae75",
   "metadata": {},
   "outputs": [
    {
     "data": {
      "text/plain": [
       "dict_keys(['link', 'restaurants'])"
      ]
     },
     "execution_count": 15,
     "metadata": {},
     "output_type": "execute_result"
    }
   ],
   "source": [
    "data['Abohar'].keys()"
   ]
  },
  {
   "cell_type": "markdown",
   "id": "51f2dd44-8970-43e0-ab4b-709b86d66317",
   "metadata": {},
   "source": [
    "When you call data['Abohar'].keys(), you're asking for a list (or view) of all the top-level attributes or keys available for the 'Abohar' entry in the data dictionary."
   ]
  },
  {
   "cell_type": "code",
   "execution_count": 16,
   "id": "8612cd4b-2acc-4d18-a63d-94e350e61a63",
   "metadata": {},
   "outputs": [],
   "source": [
    "filename = 'Swiggy_Data_With_SubRegions.csv'\n",
    "with open(filename, 'w') as f:\n",
    "    wr = csv.writer(f)\n",
    "    wr.writerow(['city','sub_region','resturant_name','rating','rating_count','cost','cuisine'])\n",
    "    \n",
    "for sub_city in data.keys():\n",
    "    try:\n",
    "        for resutrant in data[sub_city]['restaurants'].keys(): \n",
    "                try:\n",
    "                    city = \"NA\"\n",
    "                except:\n",
    "                    city = \" \"\n",
    "                try:\n",
    "                    sub_city = sub_city\n",
    "                except:\n",
    "                    sub_city=\" \"\n",
    "                try:\n",
    "                    name = data[sub_city]['restaurants'][resutrant]['name']\n",
    "                except:\n",
    "                    name=\" \"\n",
    "                try:\n",
    "                    rating = data[sub_city]['restaurants'][resutrant]['rating']\n",
    "                except:\n",
    "                    rating=\" \"\n",
    "                try:\n",
    "                    rating_count = data[sub_city]['restaurants'][resutrant]['rating']\n",
    "                except:\n",
    "                    rating_count=\" \"\n",
    "            \n",
    "                try:\n",
    "                    cost = data[sub_city]['restaurants'][resutrant]['cost']\n",
    "                except:\n",
    "                    cost = \" \"\n",
    "                try:\n",
    "                    cuisine = data[sub_city]['restaurants'][resutrant]['cuisine']\n",
    "                except:\n",
    "                    cuisine=\" \"\n",
    "                with open(filename, 'a') as f:\n",
    "                    wr = csv.writer(f)\n",
    "                    wr.writerow([city,sub_city,name,rating,rating_count,cost,cuisine])\n",
    "    except:\n",
    "        pass"
   ]
  },
  {
   "cell_type": "markdown",
   "id": "7722d87d-5f07-46e4-b064-da9a11a08800",
   "metadata": {},
   "source": [
    "This code snippet aims to extract restaurant data from the data dictionary and save it into a CSV file named 'Swiggy_Data_With_SubRegions.csv'.\n",
    "* A new CSV file, 'Swiggy_Data_With_SubRegions.csv', is created with the headers: city, sub_region, resturant_name, rating, rating_count, cost, and cuisine.\n",
    "* For each sub_city (or sub-region) in the keys of the data dictionary:\n",
    "   It attempts to iterate over each restaurant in the sub_city's 'restaurants' sub-dictionary.\n",
    "\n",
    "  For each restaurant:\n",
    "\n",
    "  The city is set to \"NA\" (since there's no city information provided in this structure).\n",
    "        It extracts various details from the data dictionary such as the restaurant's name, rating, rating count, cost, and cuisine. If any of these details are missing or cause an error, it assigns a default value or a blank space.\n",
    "         These details are then appended to the previously created CSV file.\n",
    "\n",
    "* If any error occurs during the processing of a particular sub_city, the code will skip that entry and move on to the next one, try-except block with the pass statement.\n"
   ]
  },
  {
   "cell_type": "markdown",
   "id": "805e5159-62c3-42f1-ae0e-9c047927ffd0",
   "metadata": {},
   "source": [
    "## Resturants present in Links:"
   ]
  },
  {
   "cell_type": "code",
   "execution_count": null,
   "id": "1f2a68dc-03d9-4ccb-8fd4-b6eafe5fa65c",
   "metadata": {},
   "outputs": [],
   "source": []
  },
  {
   "cell_type": "code",
   "execution_count": 17,
   "id": "b304b745-15e5-4626-a8d7-fece7d96bcdf",
   "metadata": {},
   "outputs": [
    {
     "name": "stderr",
     "output_type": "stream",
     "text": [
      "100%|█████████████████████████████████████████████████████████████████| 30/30 [00:03<00:00,  9.96it/s]\n"
     ]
    }
   ],
   "source": [
    "filename = 'Swiggy_Data_With_Links.csv'\n",
    "with open(filename, 'w') as f:\n",
    "    wr = csv.writer(f)\n",
    "    wr.writerow(['city','sub_region','resturant_name','rating','rating_count','cost','cuisine'])\n",
    "\n",
    "erros =[]\n",
    "\n",
    "for city in tqdm(cities):\n",
    "    try:\n",
    "        resturant_ids = list(data[city]['link']['restaurants'].keys())\n",
    "        for resutrant in resturant_ids:\n",
    "            try:\n",
    "                city = city\n",
    "            except:\n",
    "                city=\" \"\n",
    "            try:\n",
    "                sub_city = 'link'\n",
    "            except:\n",
    "                sub_city=\" \"\n",
    "            try:\n",
    "                name = data[city]['link']['restaurants'][resutrant]['name']\n",
    "            except:\n",
    "                name=\" \"\n",
    "            try:\n",
    "                rating = data[city]['link']['restaurants'][resutrant]['rating']\n",
    "            except:\n",
    "                rating=\" \"\n",
    "                \n",
    "            try:\n",
    "                rating_count = data[city]['link']['restaurants'][resutrant]['rating']\n",
    "            except:\n",
    "                rating_count=\" \"\n",
    "\n",
    "            \n",
    "            try:\n",
    "                cost = data[city]['link']['restaurants'][resutrant]['price']\n",
    "            except:\n",
    "                cost = \" \"\n",
    "            try:\n",
    "                cuisine = data[city]['link']['restaurants'][resutrant]['type']\n",
    "            except:\n",
    "                cuisine=\" \"\n",
    "\n",
    "            \n",
    "            with open(filename, 'a') as f:\n",
    "                wr = csv.writer(f)\n",
    "                wr.writerow([city,sub_city,name,rating,rating_count,cost,cuisine])\n",
    "    except:\n",
    "        erros.append(city)\n",
    "        pass"
   ]
  },
  {
   "cell_type": "markdown",
   "id": "677ac44e-9568-4084-a3c3-39458b16d4cb",
   "metadata": {},
   "source": [
    "This code snippet aims to extract restaurant data specifically from the 'link' sub-region of each city in the data dictionary and save it into a CSV file named 'Swiggy_Data_With_Links.csv'.\n",
    "\n",
    "* A new CSV file, 'Swiggy_Data_With_Links.csv', is created with headers: city, sub_region, resturant_name, rating, rating_count, cost, and cuisine.\n",
    "* An empty list named erros (likely a type for \"errors\") is initialized to capture cities that cause exceptions during processing.\n",
    "*  For each city in the provided cities list:\n",
    "          The code attempts to retrieve the list of restaurant IDs from the 'link' sub-region of that city in the data dictionary.\n",
    "         For each restaurant:The city remains unchanged as it's currently being iterated upon.\n",
    "         The sub_city is set to 'link'.\n",
    "         It extracts various details from the data dictionary, such as the restaurant's name, rating, rating count, cost (denoted as 'price' here), and cuisine (denoted as 'type' here). If any of these details are missing or cause an error, it assigns a default value or a blank space.\n",
    "         These details are appended to the CSV file.\n",
    "   \n",
    "* If any error occurs during the processing of a particular city, the city's name is added to the erros list, and the code moves on to the next city. \n"
   ]
  },
  {
   "cell_type": "markdown",
   "id": "71361077-4244-4c12-8c21-564fe4b30532",
   "metadata": {},
   "source": [
    "### Patna Data"
   ]
  },
  {
   "cell_type": "code",
   "execution_count": null,
   "id": "dc308b6b-3432-48eb-95f1-838525784fd0",
   "metadata": {},
   "outputs": [],
   "source": []
  },
  {
   "cell_type": "markdown",
   "id": "b69b0939-5f64-4ab2-b867-545341be544d",
   "metadata": {},
   "source": [
    "## Final CSV"
   ]
  },
  {
   "cell_type": "code",
   "execution_count": 18,
   "id": "2c62f514-d882-4820-a912-e3baa43cdfcd",
   "metadata": {},
   "outputs": [],
   "source": [
    "import pandas as pd\n",
    "df_1 = pd.read_csv(\"Swiggy_Data_With_City_SubRegions.csv\")\n",
    "df_2 = pd.read_csv(\"Swiggy_Data_With_Links.csv\")\n",
    "df_3 = pd.read_csv(\"Swiggy_Data_With_SubRegions.csv\")"
   ]
  },
  {
   "cell_type": "code",
   "execution_count": 19,
   "id": "dac40544-56a4-4932-aaa1-cc61c024efe7",
   "metadata": {},
   "outputs": [],
   "source": [
    "final_df = pd.concat([df_1,df_2,df_3])"
   ]
  },
  {
   "cell_type": "code",
   "execution_count": 20,
   "id": "66ebfbe3-f643-4d1b-972b-8326c364ee36",
   "metadata": {},
   "outputs": [
    {
     "data": {
      "text/html": [
       "<div>\n",
       "<style scoped>\n",
       "    .dataframe tbody tr th:only-of-type {\n",
       "        vertical-align: middle;\n",
       "    }\n",
       "\n",
       "    .dataframe tbody tr th {\n",
       "        vertical-align: top;\n",
       "    }\n",
       "\n",
       "    .dataframe thead th {\n",
       "        text-align: right;\n",
       "    }\n",
       "</style>\n",
       "<table border=\"1\" class=\"dataframe\">\n",
       "  <thead>\n",
       "    <tr style=\"text-align: right;\">\n",
       "      <th></th>\n",
       "      <th>city</th>\n",
       "      <th>sub_region</th>\n",
       "      <th>resturant_name</th>\n",
       "      <th>rating</th>\n",
       "      <th>rating_count</th>\n",
       "      <th>cost</th>\n",
       "      <th>cuisine</th>\n",
       "    </tr>\n",
       "  </thead>\n",
       "  <tbody>\n",
       "    <tr>\n",
       "      <th>0</th>\n",
       "      <td>Ahmedabad</td>\n",
       "      <td>Vastrapur</td>\n",
       "      <td>M.A.D By Tomato'S</td>\n",
       "      <td>4.3</td>\n",
       "      <td>100+ ratings</td>\n",
       "      <td>₹ 1200</td>\n",
       "      <td>Indian,Chinese</td>\n",
       "    </tr>\n",
       "    <tr>\n",
       "      <th>1</th>\n",
       "      <td>Ahmedabad</td>\n",
       "      <td>Vastrapur</td>\n",
       "      <td>Tea Post</td>\n",
       "      <td>4.0</td>\n",
       "      <td>100+ ratings</td>\n",
       "      <td>₹ 150</td>\n",
       "      <td>Fast Food</td>\n",
       "    </tr>\n",
       "    <tr>\n",
       "      <th>2</th>\n",
       "      <td>Ahmedabad</td>\n",
       "      <td>Vastrapur</td>\n",
       "      <td>Shanghai Chicken Lolipops</td>\n",
       "      <td>--</td>\n",
       "      <td>Too Few Ratings</td>\n",
       "      <td>₹ 300</td>\n",
       "      <td>Chinese,Fast Food</td>\n",
       "    </tr>\n",
       "    <tr>\n",
       "      <th>3</th>\n",
       "      <td>Ahmedabad</td>\n",
       "      <td>Vastrapur</td>\n",
       "      <td>Ministry Of Momos</td>\n",
       "      <td>--</td>\n",
       "      <td>Too Few Ratings</td>\n",
       "      <td>₹ 300</td>\n",
       "      <td>Chinese</td>\n",
       "    </tr>\n",
       "    <tr>\n",
       "      <th>4</th>\n",
       "      <td>Ahmedabad</td>\n",
       "      <td>Vastrapur</td>\n",
       "      <td>Sizzling - The Cake Room</td>\n",
       "      <td>--</td>\n",
       "      <td>Too Few Ratings</td>\n",
       "      <td>₹ 350</td>\n",
       "      <td>Desserts</td>\n",
       "    </tr>\n",
       "  </tbody>\n",
       "</table>\n",
       "</div>"
      ],
      "text/plain": [
       "        city sub_region             resturant_name rating     rating_count  \\\n",
       "0  Ahmedabad  Vastrapur          M.A.D By Tomato'S    4.3     100+ ratings   \n",
       "1  Ahmedabad  Vastrapur                   Tea Post    4.0     100+ ratings   \n",
       "2  Ahmedabad  Vastrapur  Shanghai Chicken Lolipops     --  Too Few Ratings   \n",
       "3  Ahmedabad  Vastrapur          Ministry Of Momos     --  Too Few Ratings   \n",
       "4  Ahmedabad  Vastrapur   Sizzling - The Cake Room     --  Too Few Ratings   \n",
       "\n",
       "     cost            cuisine  \n",
       "0  ₹ 1200     Indian,Chinese  \n",
       "1   ₹ 150          Fast Food  \n",
       "2   ₹ 300  Chinese,Fast Food  \n",
       "3   ₹ 300            Chinese  \n",
       "4   ₹ 350           Desserts  "
      ]
     },
     "execution_count": 20,
     "metadata": {},
     "output_type": "execute_result"
    }
   ],
   "source": [
    "final_df.head()"
   ]
  },
  {
   "cell_type": "markdown",
   "id": "606c8bda-4eba-4fb3-8657-8c6da5c2d6a9",
   "metadata": {},
   "source": [
    "This code combines data from three different CSV files into a single DataFrame and then previews the top five rows of the merged data."
   ]
  },
  {
   "cell_type": "code",
   "execution_count": 21,
   "id": "800d37c4-5f7c-410e-97e3-d50f69204fd4",
   "metadata": {},
   "outputs": [],
   "source": [
    "final_df.to_csv(\"SwiggyCleanedData.csv\",index=False)"
   ]
  },
  {
   "cell_type": "markdown",
   "id": "5345ba32-19de-43aa-a828-316ee771b7a0",
   "metadata": {},
   "source": [
    "This line exports the combined data in the final_df DataFrame to a new CSV file."
   ]
  },
  {
   "cell_type": "markdown",
   "id": "f66f5896-9b35-4749-82c1-f5713de6b5df",
   "metadata": {},
   "source": []
  },
  {
   "cell_type": "code",
   "execution_count": 22,
   "id": "abaa27e1-3a07-4e3b-83c5-07eb6be58490",
   "metadata": {},
   "outputs": [
    {
     "data": {
      "text/plain": [
       "(181404, 7)"
      ]
     },
     "execution_count": 22,
     "metadata": {},
     "output_type": "execute_result"
    }
   ],
   "source": [
    "final_df.shape"
   ]
  },
  {
   "cell_type": "markdown",
   "id": "3daaa5ec-44f3-49c3-a07f-ace8ce7381d5",
   "metadata": {},
   "source": [
    " final_df DataFrame has 181404 rows and 7 columns."
   ]
  },
  {
   "cell_type": "code",
   "execution_count": 23,
   "id": "26ef02a8-e2cd-4196-aaa9-d9a696ce1fb6",
   "metadata": {},
   "outputs": [
    {
     "data": {
      "text/plain": [
       "(110440, 7)"
      ]
     },
     "execution_count": 23,
     "metadata": {},
     "output_type": "execute_result"
    }
   ],
   "source": [
    "df_1.shape"
   ]
  },
  {
   "cell_type": "code",
   "execution_count": 24,
   "id": "451ed373-2a35-4cfa-bde2-8b15b7b3b49c",
   "metadata": {},
   "outputs": [
    {
     "data": {
      "text/plain": [
       "(17951, 7)"
      ]
     },
     "execution_count": 24,
     "metadata": {},
     "output_type": "execute_result"
    }
   ],
   "source": [
    "df_2.shape"
   ]
  },
  {
   "cell_type": "code",
   "execution_count": 25,
   "id": "8d0b4a9d-61db-4855-8c33-e6758aa2ea81",
   "metadata": {},
   "outputs": [
    {
     "data": {
      "text/plain": [
       "(53013, 7)"
      ]
     },
     "execution_count": 25,
     "metadata": {},
     "output_type": "execute_result"
    }
   ],
   "source": [
    "df_3.shape"
   ]
  },
  {
   "cell_type": "code",
   "execution_count": null,
   "id": "90259cfe-2e96-439f-bdb4-2810b8657fde",
   "metadata": {},
   "outputs": [],
   "source": []
  },
  {
   "cell_type": "code",
   "execution_count": null,
   "id": "4615adcb-9ec1-4a9f-8c05-607aa8e0edaa",
   "metadata": {},
   "outputs": [],
   "source": []
  }
 ],
 "metadata": {
  "kernelspec": {
   "display_name": "Python 3 (ipykernel)",
   "language": "python",
   "name": "python3"
  },
  "language_info": {
   "codemirror_mode": {
    "name": "ipython",
    "version": 3
   },
   "file_extension": ".py",
   "mimetype": "text/x-python",
   "name": "python",
   "nbconvert_exporter": "python",
   "pygments_lexer": "ipython3",
   "version": "3.9.13"
  }
 },
 "nbformat": 4,
 "nbformat_minor": 5
}
